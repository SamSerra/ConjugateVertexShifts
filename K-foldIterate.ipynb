{
 "cells": [
  {
   "cell_type": "markdown",
   "metadata": {},
   "source": [
    "Here's code for constructing the k-fold iterate from a graph"
   ]
  },
  {
   "cell_type": "code",
   "execution_count": 13,
   "metadata": {},
   "outputs": [
    {
     "data": {
      "text/plain": [
       "MetaGraphs"
      ]
     },
     "execution_count": 13,
     "metadata": {},
     "output_type": "execute_result"
    }
   ],
   "source": [
    "import LightGraphs; const lg = LightGraphs\n",
    "import GraphPlot; const gp = GraphPlot\n",
    "import MetaGraphs; const mg = MetaGraphs"
   ]
  },
  {
   "cell_type": "code",
   "execution_count": null,
   "metadata": {},
   "outputs": [],
   "source": [
    "function kfolditerate(G::lg.AbstractGraph, k::Int)\n",
    "    #=\n",
    "    Construct the k-fold iterate of G using DFS\n",
    "    \n",
    "    Alg:\n",
    "    1. for each vertex of G\n",
    "        2. find all paths of length k+1 starting at v\n",
    "        3. add first k vertices as one node, the last as another, and connect them with an edge\n",
    "    =#\n",
    "    \n",
    "    ## get all paths of length k+1 with a DFS\n",
    "    iterate_edges=[]\n",
    "    for v ∈ lg.vertices(G)\n",
    "        S=[]\n",
    "        push!(S,[v])\n",
    "        while ~isempty(S)\n",
    "            current_path = pop!(S)\n",
    "            if length(current_path)<k+1\n",
    "                u = last(current_path)\n",
    "                for w ∈ lg.outneighbors(u)\n",
    "                    path = copy(current_path)\n",
    "                    push!(S,push!(path,w))\n",
    "                end\n",
    "            else\n",
    "                firstnode = current_path[1:k]\n",
    "                secondnode = current_path[2:k+1]\n",
    "                append!(iterate_edges,[firstnode,secondnode])\n",
    "            end\n",
    "        end\n",
    "    end\n",
    "    \n",
    "    ## turn those paths into a graph\n",
    "    kfold=lg.DiGraph()\n",
    "    unique!(iterate_edges)\n",
    "    \n",
    "end"
   ]
  }
 ],
 "metadata": {
  "kernelspec": {
   "display_name": "Julia 1.5.1",
   "language": "julia",
   "name": "julia-1.5"
  },
  "language_info": {
   "file_extension": ".jl",
   "mimetype": "application/julia",
   "name": "julia",
   "version": "1.5.1"
  }
 },
 "nbformat": 4,
 "nbformat_minor": 4
}
